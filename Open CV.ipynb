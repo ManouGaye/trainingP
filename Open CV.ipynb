{
  "nbformat": 4,
  "nbformat_minor": 0,
  "metadata": {
    "kernelspec": {
      "display_name": "Python 3",
      "language": "python",
      "name": "python3"
    },
    "language_info": {
      "codemirror_mode": {
        "name": "ipython",
        "version": 3
      },
      "file_extension": ".py",
      "mimetype": "text/x-python",
      "name": "python",
      "nbconvert_exporter": "python",
      "pygments_lexer": "ipython3",
      "version": "3.8.3"
    },
    "colab": {
      "name": "Open CV.ipynb",
      "provenance": []
    }
  },
  "cells": [
    {
      "cell_type": "code",
      "metadata": {
        "id": "jjZw076zIrWp",
        "outputId": "96790f02-a2e9-448c-964e-5040c9785e6b",
        "colab": {
          "base_uri": "https://localhost:8080/"
        }
      },
      "source": [
        "!sudo apt install tesseract-ocr-fra\n"
      ],
      "execution_count": 16,
      "outputs": [
        {
          "output_type": "stream",
          "text": [
            "Reading package lists... Done\n",
            "Building dependency tree       \n",
            "Reading state information... Done\n",
            "The following NEW packages will be installed:\n",
            "  tesseract-ocr-fra\n",
            "0 upgraded, 1 newly installed, 0 to remove and 39 not upgraded.\n",
            "Need to get 527 kB of archives.\n",
            "After this operation, 1,145 kB of additional disk space will be used.\n",
            "Get:1 http://archive.ubuntu.com/ubuntu bionic/universe amd64 tesseract-ocr-fra all 4.00~git24-0e00fe6-1.2 [527 kB]\n",
            "Fetched 527 kB in 3s (203 kB/s)\n",
            "debconf: unable to initialize frontend: Dialog\n",
            "debconf: (No usable dialog-like program is installed, so the dialog based frontend cannot be used. at /usr/share/perl5/Debconf/FrontEnd/Dialog.pm line 76, <> line 1.)\n",
            "debconf: falling back to frontend: Readline\n",
            "debconf: unable to initialize frontend: Readline\n",
            "debconf: (This frontend requires a controlling tty.)\n",
            "debconf: falling back to frontend: Teletype\n",
            "dpkg-preconfigure: unable to re-open stdin: \n",
            "Selecting previously unselected package tesseract-ocr-fra.\n",
            "(Reading database ... 160819 files and directories currently installed.)\n",
            "Preparing to unpack .../tesseract-ocr-fra_4.00~git24-0e00fe6-1.2_all.deb ...\n",
            "Unpacking tesseract-ocr-fra (4.00~git24-0e00fe6-1.2) ...\n",
            "Setting up tesseract-ocr-fra (4.00~git24-0e00fe6-1.2) ...\n"
          ],
          "name": "stdout"
        }
      ]
    },
    {
      "cell_type": "code",
      "metadata": {
        "id": "_GyX5F4IIrWu"
      },
      "source": [
        "try:\n",
        "    from PIL import Image\n",
        "except ImportError:\n",
        "    import Image\n",
        "import pytesseract\n",
        "\n"
      ],
      "execution_count": 8,
      "outputs": []
    },
    {
      "cell_type": "code",
      "metadata": {
        "id": "T6_F5y3BIrWv",
        "outputId": "cf612f4f-ab2e-4936-c832-9dca43a455ac",
        "colab": {
          "base_uri": "https://localhost:8080/"
        }
      },
      "source": [
        "tesseract_cmd = r'/usr/local/bin/pytesseract'\n",
        "image = Image.open('image.PNG')\n",
        "print(pytesseract.image_to_string(image))"
      ],
      "execution_count": 17,
      "outputs": [
        {
          "output_type": "stream",
          "text": [
            "Hétel Abbaye des Prémontrés\n",
            "Abba e 9 Rue Saint Martin - BP 125 - 54705 - Pont & Mousson - FRANCE\n",
            "D, A i , Téléphone: 03.8: we nies 03.83,82.11.03\n",
            "remontres babbayepremontrs.com\n",
            "\n",
            " \n",
            "\n",
            " \n",
            "\n",
            " \n",
            "\n",
            " \n",
            "\n",
            "Facture N°. 1435221 03-03-2020\n",
            "Se St cRO BOOKING\n",
            "= France\n",
            "\n",
            "N® de Conf. : G78554 Date Arrivée : 2-mars-20 Adultes : 1 Dép.Par: SANDRINE\n",
            "\n",
            "N° Chambre : 1433. Date Départ : 3-mars-20 Enfants: 0\n",
            "\n",
            "Date Description grin, Prix Untare Montant HT, Montant TVA Total\n",
            "\n",
            "86.40] 78.55] 7.85] 26 40| EU\n",
            "\n",
            "1,00] 4.09] a =1.00| EU\n",
            "‘Sous-Totaux 79.55 7385 ‘8740 EU\n",
            "-74.40| EU\n",
            "\n",
            "13.00] EU\n",
            "\n",
            "‘Sous-Totaux \"$7.40 EU\n",
            "A Payer 0.00 £U\n",
            "\n",
            " \n",
            "\n",
            " \n",
            "\n",
            " \n",
            "\n",
            "IN’ Siret : 783 345 994 00025 - Code APE 913€ - INSEE 783 345 99400025. a:\n",
            "{TVA Intracommunautaire : FR 79783345994 i\n",
            "\f\n"
          ],
          "name": "stdout"
        }
      ]
    },
    {
      "cell_type": "code",
      "metadata": {
        "id": "H6yzlulEIrWw",
        "outputId": "40a41861-c832-4c60-e75c-da7d85f1bb92"
      },
      "source": [
        "import sys\n",
        "!conda install --yes --prefix {sys.prefix} numpy"
      ],
      "execution_count": null,
      "outputs": [
        {
          "output_type": "stream",
          "text": [
            "Collecting package metadata (current_repodata.json): ...working... failed\n"
          ],
          "name": "stdout"
        },
        {
          "output_type": "stream",
          "text": [
            "\n",
            "CondaHTTPError: HTTP 000 CONNECTION FAILED for url <https://repo.anaconda.com/pkgs/main/win-64/current_repodata.json>\n",
            "Elapsed: -\n",
            "\n",
            "An HTTP error occurred when trying to retrieve this URL.\n",
            "HTTP errors are often intermittent, and a simple retry will get you on your way.\n",
            "\n",
            "If your current network has https://www.anaconda.com blocked, please file\n",
            "a support request with your network engineering team.\n",
            "\n",
            "'https://repo.anaconda.com/pkgs/main/win-64'\n",
            "\n",
            "\n",
            "WARNING: Retrying (Retry(total=4, connect=None, read=None, redirect=None, status=None)) after connection broken by 'ConnectTimeoutError(<pip._vendor.urllib3.connection.VerifiedHTTPSConnection object at 0x00000000045DC130>, 'Connection to pypi.org timed out. (connect timeout=15)')': /simple/opencv-python/\n",
            "WARNING: Retrying (Retry(total=3, connect=None, read=None, redirect=None, status=None)) after connection broken by 'ConnectTimeoutError(<pip._vendor.urllib3.connection.VerifiedHTTPSConnection object at 0x0000000004538220>, 'Connection to pypi.org timed out. (connect timeout=15)')': /simple/opencv-python/\n",
            "WARNING: Retrying (Retry(total=2, connect=None, read=None, redirect=None, status=None)) after connection broken by 'ConnectTimeoutError(<pip._vendor.urllib3.connection.VerifiedHTTPSConnection object at 0x0000000004538580>, 'Connection to pypi.org timed out. (connect timeout=15)')': /simple/opencv-python/\n",
            "WARNING: Retrying (Retry(total=1, connect=None, read=None, redirect=None, status=None)) after connection broken by 'ConnectTimeoutError(<pip._vendor.urllib3.connection.VerifiedHTTPSConnection object at 0x0000000004538A90>, 'Connection to pypi.org timed out. (connect timeout=15)')': /simple/opencv-python/\n",
            "WARNING: Retrying (Retry(total=0, connect=None, read=None, redirect=None, status=None)) after connection broken by 'ConnectTimeoutError(<pip._vendor.urllib3.connection.VerifiedHTTPSConnection object at 0x0000000004538880>, 'Connection to pypi.org timed out. (connect timeout=15)')': /simple/opencv-python/\n",
            "ERROR: Could not find a version that satisfies the requirement opencv-python (from versions: none)\n",
            "ERROR: No matching distribution found for opencv-python\n"
          ],
          "name": "stderr"
        }
      ]
    },
    {
      "cell_type": "code",
      "metadata": {
        "id": "R8MxJGKUIrWx"
      },
      "source": [
        ""
      ],
      "execution_count": null,
      "outputs": []
    }
  ]
}